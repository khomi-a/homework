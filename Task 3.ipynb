{
 "cells": [
  {
   "cell_type": "markdown",
   "metadata": {},
   "source": [
    "# Vitamins"
   ]
  },
  {
   "cell_type": "code",
   "execution_count": 1,
   "metadata": {},
   "outputs": [],
   "source": [
    "import os\n",
    "import csv\n",
    "import json"
   ]
  },
  {
   "cell_type": "code",
   "execution_count": 2,
   "metadata": {
    "scrolled": true
   },
   "outputs": [],
   "source": [
    "vitamin_names = os.listdir('vitamins') #папка ниходится в рабочей директории\n",
    "\n",
    "d_vitamins = {} \n",
    "for name in vitamin_names:\n",
    "    d_vitamins[name[:-4]] = []\n",
    "    with open(\"vitamins\\\\\" + name, \"r\") as file:\n",
    "        for line in file:\n",
    "            d_vitamins[name[:-4]].append(line) #заполнение словаря с информацией\n",
    "                                               #о витаминах для дальнейшей работы\n",
    "            \n",
    "with open(\"vitamins.csv\", \"w\") as file:\n",
    "    writer = csv.writer(file)\n",
    "    writer.writerow([\"Vitamin\", \"Vitamers\", \"Solubility\",\n",
    "                    \"Daily_requirement\", \"Deficiency_diseases\"]) #названия столбцов\n",
    "    for name in vitamin_names:\n",
    "        writer.writerow(d_vitamins[name[:-4]])         \n",
    "        \n",
    "    \n",
    "list_vitamins = []\n",
    "features = [\"Vitamin\", \"Vitamers\", \"Solubility\",\n",
    "                    \"Daily_requirement\", \"Deficiency_diseases\"]\n",
    "\n",
    "for name in vitamin_names:\n",
    "    with open(\"vitamins\\\\\" + name, \"r\") as file:\n",
    "        d_temp = {}\n",
    "        for i, line in enumerate(file):\n",
    "            if i == 1:\n",
    "                d_temp[features[i]] = line[:-1].split(', ')\n",
    "            elif i == 4:\n",
    "                d_temp[features[i]] = line.split(', ')\n",
    "            else: \n",
    "                d_temp[features[i]] = line[:-1]\n",
    "        list_vitamins.append(d_temp)\n",
    "        #заполнение словаря с информацией под требуемый формат json\n",
    "        \n",
    "with open(\"vitamins.json\", \"w\") as out:\n",
    "    json.dump(list_vitamins, out)\n",
    "                "
   ]
  },
  {
   "cell_type": "markdown",
   "metadata": {},
   "source": [
    "# Pluz"
   ]
  },
  {
   "cell_type": "code",
   "execution_count": 3,
   "metadata": {},
   "outputs": [],
   "source": [
    "def pluz(arg1, arg2):\n",
    "    types = [type(arg1), type(arg2)]\n",
    "    if int in types and str in types:\n",
    "        return int(arg1)+int(arg2)    \n",
    "    return arg1+arg2"
   ]
  }
 ],
 "metadata": {
  "kernelspec": {
   "display_name": "Python 3",
   "language": "python",
   "name": "python3"
  },
  "language_info": {
   "codemirror_mode": {
    "name": "ipython",
    "version": 3
   },
   "file_extension": ".py",
   "mimetype": "text/x-python",
   "name": "python",
   "nbconvert_exporter": "python",
   "pygments_lexer": "ipython3",
   "version": "3.8.5"
  }
 },
 "nbformat": 4,
 "nbformat_minor": 4
}
